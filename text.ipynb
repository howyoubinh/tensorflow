{
 "cells": [
  {
   "cell_type": "code",
   "execution_count": 1,
   "metadata": {},
   "outputs": [
    {
     "name": "stdout",
     "output_type": "stream",
     "text": [
      "1.12.0\n"
     ]
    }
   ],
   "source": [
    "import tensorflow as tf\n",
    "from tensorflow import keras\n",
    "import numpy as np\n",
    "\n",
    "print(tf.__version__)\n"
   ]
  },
  {
   "cell_type": "code",
   "execution_count": 3,
   "metadata": {},
   "outputs": [
    {
     "name": "stdout",
     "output_type": "stream",
     "text": [
      "Downloading data from https://storage.googleapis.com/tensorflow/tf-keras-datasets/imdb.npz\n",
      "17465344/17464789 [==============================] - 3s 0us/step\n"
     ]
    }
   ],
   "source": [
    "imdb = keras.datasets.imdb\n",
    "\n",
    "(train_data, train_labels), (test_data, test_labels) = imdb.load_data(num_words=10000)"
   ]
  },
  {
   "cell_type": "code",
   "execution_count": 4,
   "metadata": {},
   "outputs": [
    {
     "name": "stdout",
     "output_type": "stream",
     "text": [
      "Training entries: 25000, labels: 25000\n"
     ]
    }
   ],
   "source": [
    "print(\"Training entries: {}, labels: {}\".format(len(train_data), len(train_labels)))"
   ]
  },
  {
   "cell_type": "code",
   "execution_count": 5,
   "metadata": {},
   "outputs": [
    {
     "name": "stdout",
     "output_type": "stream",
     "text": [
      "[1, 14, 22, 16, 43, 530, 973, 1622, 1385, 65, 458, 4468, 66, 3941, 4, 173, 36, 256, 5, 25, 100, 43, 838, 112, 50, 670, 2, 9, 35, 480, 284, 5, 150, 4, 172, 112, 167, 2, 336, 385, 39, 4, 172, 4536, 1111, 17, 546, 38, 13, 447, 4, 192, 50, 16, 6, 147, 2025, 19, 14, 22, 4, 1920, 4613, 469, 4, 22, 71, 87, 12, 16, 43, 530, 38, 76, 15, 13, 1247, 4, 22, 17, 515, 17, 12, 16, 626, 18, 2, 5, 62, 386, 12, 8, 316, 8, 106, 5, 4, 2223, 5244, 16, 480, 66, 3785, 33, 4, 130, 12, 16, 38, 619, 5, 25, 124, 51, 36, 135, 48, 25, 1415, 33, 6, 22, 12, 215, 28, 77, 52, 5, 14, 407, 16, 82, 2, 8, 4, 107, 117, 5952, 15, 256, 4, 2, 7, 3766, 5, 723, 36, 71, 43, 530, 476, 26, 400, 317, 46, 7, 4, 2, 1029, 13, 104, 88, 4, 381, 15, 297, 98, 32, 2071, 56, 26, 141, 6, 194, 7486, 18, 4, 226, 22, 21, 134, 476, 26, 480, 5, 144, 30, 5535, 18, 51, 36, 28, 224, 92, 25, 104, 4, 226, 65, 16, 38, 1334, 88, 12, 16, 283, 5, 16, 4472, 113, 103, 32, 15, 16, 5345, 19, 178, 32]\n"
     ]
    }
   ],
   "source": [
    "print(train_data[0])"
   ]
  },
  {
   "cell_type": "code",
   "execution_count": 6,
   "metadata": {},
   "outputs": [
    {
     "data": {
      "text/plain": [
       "(218, 189)"
      ]
     },
     "execution_count": 6,
     "metadata": {},
     "output_type": "execute_result"
    }
   ],
   "source": [
    "len(train_data[0]), len(train_data[1])"
   ]
  },
  {
   "cell_type": "code",
   "execution_count": 8,
   "metadata": {},
   "outputs": [],
   "source": [
    "# A dictionary mapping words to an integer index\n",
    "word_index = imdb.get_word_index()\n",
    "\n",
    "# The first indices are reserved\n",
    "word_index = {k:(v+3) for k,v in word_index.items()}\n",
    "word_index[\"<PAD>\"] = 0\n",
    "word_index[\"<START>\"] = 1\n",
    "word_index[\"<UNK>\"] = 2 # unknown\n",
    "word_index[\"<UNUSED>\"] = 3\n",
    "\n",
    "reverse_word_index = dict([(value,key) for (key,value) in word_index.items()])\n",
    "\n",
    "def decode_review(text):\n",
    "    return ' '.join([reverse_word_index.get(i, '?') for i in text])\n"
   ]
  },
  {
   "cell_type": "code",
   "execution_count": 9,
   "metadata": {},
   "outputs": [
    {
     "data": {
      "text/plain": [
       "\"<START> this film was just brilliant casting location scenery story direction everyone's really suited the part they played and you could just imagine being there robert <UNK> is an amazing actor and now the same being director <UNK> father came from the same scottish island as myself so i loved the fact there was a real connection with this film the witty remarks throughout the film were great it was just brilliant so much that i bought the film as soon as it was released for <UNK> and would recommend it to everyone to watch and the fly fishing was amazing really cried at the end it was so sad and you know what they say if you cry at a film it must have been good and this definitely was also <UNK> to the two little boy's that played the <UNK> of norman and paul they were just brilliant children are often left out of the <UNK> list i think because the stars that play them all grown up are such a big profile for the whole film but these children are amazing and should be praised for what they have done don't you think the whole story was so lovely because it was true and was someone's life after all that was shared with us all\""
      ]
     },
     "execution_count": 9,
     "metadata": {},
     "output_type": "execute_result"
    }
   ],
   "source": [
    "decode_review(train_data[0])\n"
   ]
  },
  {
   "cell_type": "code",
   "execution_count": 11,
   "metadata": {},
   "outputs": [],
   "source": [
    "# Create integer tensor of shape max_length * num_reviews\n",
    "train_data = keras.preprocessing.sequence.pad_sequences(train_data,\n",
    "                                                        value=word_index[\"<PAD>\"],\n",
    "                                                        padding='post',\n",
    "                                                        maxlen=256)\n",
    "test_data = keras.preprocessing.sequence.pad_sequences(test_data,\n",
    "                                                       value=word_index[\"<PAD>\"],\n",
    "                                                       padding='post',\n",
    "                                                       maxlen=256)\n"
   ]
  },
  {
   "cell_type": "code",
   "execution_count": 12,
   "metadata": {},
   "outputs": [
    {
     "data": {
      "text/plain": [
       "(256, 256)"
      ]
     },
     "execution_count": 12,
     "metadata": {},
     "output_type": "execute_result"
    }
   ],
   "source": [
    "len(train_data[0]), len(train_data[1])"
   ]
  },
  {
   "cell_type": "code",
   "execution_count": 13,
   "metadata": {},
   "outputs": [
    {
     "name": "stdout",
     "output_type": "stream",
     "text": [
      "[   1   14   22   16   43  530  973 1622 1385   65  458 4468   66 3941\n",
      "    4  173   36  256    5   25  100   43  838  112   50  670    2    9\n",
      "   35  480  284    5  150    4  172  112  167    2  336  385   39    4\n",
      "  172 4536 1111   17  546   38   13  447    4  192   50   16    6  147\n",
      " 2025   19   14   22    4 1920 4613  469    4   22   71   87   12   16\n",
      "   43  530   38   76   15   13 1247    4   22   17  515   17   12   16\n",
      "  626   18    2    5   62  386   12    8  316    8  106    5    4 2223\n",
      " 5244   16  480   66 3785   33    4  130   12   16   38  619    5   25\n",
      "  124   51   36  135   48   25 1415   33    6   22   12  215   28   77\n",
      "   52    5   14  407   16   82    2    8    4  107  117 5952   15  256\n",
      "    4    2    7 3766    5  723   36   71   43  530  476   26  400  317\n",
      "   46    7    4    2 1029   13  104   88    4  381   15  297   98   32\n",
      " 2071   56   26  141    6  194 7486   18    4  226   22   21  134  476\n",
      "   26  480    5  144   30 5535   18   51   36   28  224   92   25  104\n",
      "    4  226   65   16   38 1334   88   12   16  283    5   16 4472  113\n",
      "  103   32   15   16 5345   19  178   32    0    0    0    0    0    0\n",
      "    0    0    0    0    0    0    0    0    0    0    0    0    0    0\n",
      "    0    0    0    0    0    0    0    0    0    0    0    0    0    0\n",
      "    0    0    0    0]\n"
     ]
    }
   ],
   "source": [
    "print(train_data[0])"
   ]
  },
  {
   "cell_type": "code",
   "execution_count": 14,
   "metadata": {},
   "outputs": [
    {
     "name": "stdout",
     "output_type": "stream",
     "text": [
      "_________________________________________________________________\n",
      "Layer (type)                 Output Shape              Param #   \n",
      "=================================================================\n",
      "embedding (Embedding)        (None, None, 16)          160000    \n",
      "_________________________________________________________________\n",
      "global_average_pooling1d (Gl (None, 16)                0         \n",
      "_________________________________________________________________\n",
      "dense (Dense)                (None, 16)                272       \n",
      "_________________________________________________________________\n",
      "dense_1 (Dense)              (None, 1)                 17        \n",
      "=================================================================\n",
      "Total params: 160,289\n",
      "Trainable params: 160,289\n",
      "Non-trainable params: 0\n",
      "_________________________________________________________________\n"
     ]
    }
   ],
   "source": [
    "# input shape is the vocabulary count used for the movie reviews (10,000 words)\n",
    "vocab_size = 10000\n",
    "\n",
    "model = keras.Sequential()\n",
    "model.add(keras.layers.Embedding(vocab_size, 16))\n",
    "model.add(keras.layers.GlobalAveragePooling1D())\n",
    "model.add(keras.layers.Dense(16, activation=tf.nn.relu))\n",
    "model.add(keras.layers.Dense(1, activation=tf.nn.sigmoid))\n",
    "\n",
    "model.summary()\n"
   ]
  },
  {
   "cell_type": "code",
   "execution_count": 15,
   "metadata": {},
   "outputs": [],
   "source": [
    "model.compile(optimizer='adam',\n",
    "              loss='binary_crossentropy',\n",
    "              metrics=['accuracy'])"
   ]
  },
  {
   "cell_type": "code",
   "execution_count": 16,
   "metadata": {},
   "outputs": [],
   "source": [
    "x_val = train_data[:10000]\n",
    "partial_x_train = train_data[10000:]\n",
    "\n",
    "y_val = train_labels[:10000]\n",
    "partial_y_train = train_labels[10000:]\n"
   ]
  },
  {
   "cell_type": "code",
   "execution_count": 17,
   "metadata": {},
   "outputs": [
    {
     "name": "stderr",
     "output_type": "stream",
     "text": [
      "c:\\users\\howyo\\anaconda3\\envs\\venv\\lib\\site-packages\\tensorflow\\python\\ops\\gradients_impl.py:112: UserWarning: Converting sparse IndexedSlices to a dense Tensor of unknown shape. This may consume a large amount of memory.\n",
      "  \"Converting sparse IndexedSlices to a dense Tensor of unknown shape. \"\n"
     ]
    },
    {
     "name": "stdout",
     "output_type": "stream",
     "text": [
      "Train on 15000 samples, validate on 10000 samples\n",
      "Epoch 1/40\n",
      "15000/15000 [==============================] - 1s 47us/step - loss: 0.6922 - acc: 0.5593 - val_loss: 0.6904 - val_acc: 0.5922\n",
      "Epoch 2/40\n",
      "15000/15000 [==============================] - 0s 25us/step - loss: 0.6871 - acc: 0.6427 - val_loss: 0.6827 - val_acc: 0.6405\n",
      "Epoch 3/40\n",
      "15000/15000 [==============================] - 0s 25us/step - loss: 0.6750 - acc: 0.6842 - val_loss: 0.6668 - val_acc: 0.6924\n",
      "Epoch 4/40\n",
      "15000/15000 [==============================] - 0s 25us/step - loss: 0.6531 - acc: 0.7167 - val_loss: 0.6419 - val_acc: 0.7608\n",
      "Epoch 5/40\n",
      "15000/15000 [==============================] - 0s 27us/step - loss: 0.6206 - acc: 0.7776 - val_loss: 0.6069 - val_acc: 0.7690\n",
      "Epoch 6/40\n",
      "15000/15000 [==============================] - 0s 26us/step - loss: 0.5790 - acc: 0.8047 - val_loss: 0.5661 - val_acc: 0.7889\n",
      "Epoch 7/40\n",
      "15000/15000 [==============================] - 0s 26us/step - loss: 0.5317 - acc: 0.8328 - val_loss: 0.5220 - val_acc: 0.8224\n",
      "Epoch 8/40\n",
      "15000/15000 [==============================] - 0s 26us/step - loss: 0.4835 - acc: 0.8517 - val_loss: 0.4797 - val_acc: 0.8381\n",
      "Epoch 9/40\n",
      "15000/15000 [==============================] - 0s 26us/step - loss: 0.4388 - acc: 0.8629 - val_loss: 0.4422 - val_acc: 0.8483\n",
      "Epoch 10/40\n",
      "15000/15000 [==============================] - 0s 26us/step - loss: 0.3987 - acc: 0.8758 - val_loss: 0.4107 - val_acc: 0.8550\n",
      "Epoch 11/40\n",
      "15000/15000 [==============================] - 0s 28us/step - loss: 0.3649 - acc: 0.8848 - val_loss: 0.3869 - val_acc: 0.8597\n",
      "Epoch 12/40\n",
      "15000/15000 [==============================] - 0s 26us/step - loss: 0.3369 - acc: 0.8921 - val_loss: 0.3640 - val_acc: 0.8659\n",
      "Epoch 13/40\n",
      "15000/15000 [==============================] - 0s 26us/step - loss: 0.3114 - acc: 0.8975 - val_loss: 0.3479 - val_acc: 0.8703\n",
      "Epoch 14/40\n",
      "15000/15000 [==============================] - 0s 27us/step - loss: 0.2904 - acc: 0.9031 - val_loss: 0.3339 - val_acc: 0.8734\n",
      "Epoch 15/40\n",
      "15000/15000 [==============================] - 0s 27us/step - loss: 0.2723 - acc: 0.9079 - val_loss: 0.3231 - val_acc: 0.8756\n",
      "Epoch 16/40\n",
      "15000/15000 [==============================] - 0s 27us/step - loss: 0.2568 - acc: 0.9130 - val_loss: 0.3143 - val_acc: 0.8769\n",
      "Epoch 17/40\n",
      "15000/15000 [==============================] - 0s 26us/step - loss: 0.2421 - acc: 0.9183 - val_loss: 0.3070 - val_acc: 0.8784\n",
      "Epoch 18/40\n",
      "15000/15000 [==============================] - 0s 27us/step - loss: 0.2292 - acc: 0.9227 - val_loss: 0.3011 - val_acc: 0.8813\n",
      "Epoch 19/40\n",
      "15000/15000 [==============================] - 0s 28us/step - loss: 0.2173 - acc: 0.9269 - val_loss: 0.2967 - val_acc: 0.8823\n",
      "Epoch 20/40\n",
      "15000/15000 [==============================] - 0s 27us/step - loss: 0.2069 - acc: 0.9301 - val_loss: 0.2925 - val_acc: 0.8829\n",
      "Epoch 21/40\n",
      "15000/15000 [==============================] - 0s 29us/step - loss: 0.1968 - acc: 0.9347 - val_loss: 0.2895 - val_acc: 0.8838\n",
      "Epoch 22/40\n",
      "15000/15000 [==============================] - 0s 28us/step - loss: 0.1876 - acc: 0.9384 - val_loss: 0.2876 - val_acc: 0.8842\n",
      "Epoch 23/40\n",
      "15000/15000 [==============================] - 0s 27us/step - loss: 0.1792 - acc: 0.9409 - val_loss: 0.2862 - val_acc: 0.8845\n",
      "Epoch 24/40\n",
      "15000/15000 [==============================] - 0s 25us/step - loss: 0.1709 - acc: 0.9458 - val_loss: 0.2846 - val_acc: 0.8853\n",
      "Epoch 25/40\n",
      "15000/15000 [==============================] - 0s 25us/step - loss: 0.1637 - acc: 0.9489 - val_loss: 0.2841 - val_acc: 0.8841\n",
      "Epoch 26/40\n",
      "15000/15000 [==============================] - 0s 27us/step - loss: 0.1564 - acc: 0.9515 - val_loss: 0.2840 - val_acc: 0.8850\n",
      "Epoch 27/40\n",
      "15000/15000 [==============================] - 0s 25us/step - loss: 0.1504 - acc: 0.9532 - val_loss: 0.2851 - val_acc: 0.8844\n",
      "Epoch 28/40\n",
      "15000/15000 [==============================] - 0s 25us/step - loss: 0.1441 - acc: 0.9566 - val_loss: 0.2845 - val_acc: 0.8860\n",
      "Epoch 29/40\n",
      "15000/15000 [==============================] - 0s 27us/step - loss: 0.1382 - acc: 0.9583 - val_loss: 0.2855 - val_acc: 0.8861\n",
      "Epoch 30/40\n",
      "15000/15000 [==============================] - 0s 28us/step - loss: 0.1333 - acc: 0.9605 - val_loss: 0.2873 - val_acc: 0.8851\n",
      "Epoch 31/40\n",
      "15000/15000 [==============================] - 0s 27us/step - loss: 0.1272 - acc: 0.9630 - val_loss: 0.2886 - val_acc: 0.8867\n",
      "Epoch 32/40\n",
      "15000/15000 [==============================] - 0s 26us/step - loss: 0.1224 - acc: 0.9649 - val_loss: 0.2907 - val_acc: 0.8855\n",
      "Epoch 33/40\n",
      "15000/15000 [==============================] - 0s 29us/step - loss: 0.1172 - acc: 0.9670 - val_loss: 0.2927 - val_acc: 0.8858\n",
      "Epoch 34/40\n",
      "15000/15000 [==============================] - 0s 27us/step - loss: 0.1128 - acc: 0.9689 - val_loss: 0.2961 - val_acc: 0.8847\n",
      "Epoch 35/40\n",
      "15000/15000 [==============================] - 0s 27us/step - loss: 0.1089 - acc: 0.9699 - val_loss: 0.2977 - val_acc: 0.8853\n",
      "Epoch 36/40\n",
      "15000/15000 [==============================] - 0s 27us/step - loss: 0.1041 - acc: 0.9727 - val_loss: 0.3007 - val_acc: 0.8843\n",
      "Epoch 37/40\n",
      "15000/15000 [==============================] - 0s 26us/step - loss: 0.1003 - acc: 0.9739 - val_loss: 0.3037 - val_acc: 0.8839\n",
      "Epoch 38/40\n",
      "15000/15000 [==============================] - 0s 29us/step - loss: 0.0970 - acc: 0.9749 - val_loss: 0.3076 - val_acc: 0.8822\n",
      "Epoch 39/40\n",
      "15000/15000 [==============================] - 0s 27us/step - loss: 0.0929 - acc: 0.9771 - val_loss: 0.3094 - val_acc: 0.8830\n",
      "Epoch 40/40\n",
      "15000/15000 [==============================] - 0s 25us/step - loss: 0.0894 - acc: 0.9786 - val_loss: 0.3132 - val_acc: 0.8824\n"
     ]
    }
   ],
   "source": [
    "history = model.fit(partial_x_train,\n",
    "                    partial_y_train,\n",
    "                    epochs=40,\n",
    "                    batch_size=512,\n",
    "                    validation_data=(x_val,y_val),\n",
    "                    verbose=1)\n"
   ]
  },
  {
   "cell_type": "code",
   "execution_count": 18,
   "metadata": {},
   "outputs": [
    {
     "name": "stdout",
     "output_type": "stream",
     "text": [
      "25000/25000 [==============================] - 0s 14us/step\n",
      "[0.3344574690294266, 0.87188]\n"
     ]
    }
   ],
   "source": [
    "results = model.evaluate(test_data, test_labels)\n",
    "print(results)"
   ]
  },
  {
   "cell_type": "code",
   "execution_count": 19,
   "metadata": {},
   "outputs": [
    {
     "data": {
      "text/plain": [
       "dict_keys(['val_loss', 'val_acc', 'loss', 'acc'])"
      ]
     },
     "execution_count": 19,
     "metadata": {},
     "output_type": "execute_result"
    }
   ],
   "source": [
    "history_dict = history.history\n",
    "history_dict.keys()"
   ]
  },
  {
   "cell_type": "code",
   "execution_count": 25,
   "metadata": {},
   "outputs": [
    {
     "data": {
      "image/png": "[encoded data removed]",
      "text/plain": [
       "<Figure size 432x288 with 1 Axes>"
      ]
     },
     "metadata": {
      "needs_background": "light"
     },
     "output_type": "display_data"
    }
   ],
   "source": [
    "import matplotlib.pyplot as plt\n",
    "\n",
    "acc = history_dict['acc']\n",
    "val_acc = history_dict['val_acc']\n",
    "loss = history_dict['loss']\n",
    "val_loss = history_dict['val_loss']\n",
    "\n",
    "epochs = range(1, len(acc) + 1)\n",
    "\n",
    "# Plot the training and validation loss for comparison\n",
    "\n",
    "# \"bo\" is for \"blue dot\"\n",
    "plt.plot(epochs, loss, 'bo', label='Training loss')\n",
    "# b is for \"solid blue line\"\n",
    "plt.plot(epochs, val_loss, 'b', label='Validation loss')\n",
    "plt.title('Training and validation loss')\n",
    "plt.xlabel('Epochs')\n",
    "plt.ylabel('Loss')\n",
    "plt.legend()\n",
    "\n",
    "plt.show()"
   ]
  },
  {
   "cell_type": "code",
   "execution_count": 27,
   "metadata": {},
   "outputs": [
    {
     "data": {
      "image/png": "[encoded data removed]",
      "text/plain": [
       "<Figure size 432x288 with 1 Axes>"
      ]
     },
     "metadata": {
      "needs_background": "light"
     },
     "output_type": "display_data"
    }
   ],
   "source": [
    "# Plot training and validation accuracy\n",
    "plt.plot(epochs, acc, 'bo', label = 'Training acc')\n",
    "plt.plot(epochs, val_acc, 'b', label = 'Validation acc')\n",
    "plt.title('Training and validation accuracy')\n",
    "plt.xlabel('Epochs')\n",
    "plt.ylabel('Accuracy')\n",
    "plt.legend()\n",
    "plt.show()"
   ]
  }
 ],
 "metadata": {
  "kernelspec": {
   "display_name": "Python 3",
   "language": "python",
   "name": "python3"
  },
  "language_info": {
   "codemirror_mode": {
    "name": "ipython",
    "version": 3
   },
   "file_extension": ".py",
   "mimetype": "text/x-python",
   "name": "python",
   "nbconvert_exporter": "python",
   "pygments_lexer": "ipython3",
   "version": "3.6.8"
  }
 },
 "nbformat": 4,
 "nbformat_minor": 2
}
